{
 "cells": [
  {
   "cell_type": "code",
   "execution_count": 1,
   "id": "01615dac",
   "metadata": {},
   "outputs": [
    {
     "name": "stdout",
     "output_type": "stream",
     "text": [
      "Collecting numpy\n",
      "  Downloading numpy-2.3.1-cp312-cp312-manylinux_2_28_x86_64.whl.metadata (62 kB)\n",
      "\u001b[2K     \u001b[38;2;114;156;31m━━━━━━━━━━━━━━━━━━━━━━━━━━━━━━━━━━━━━━━\u001b[0m \u001b[32m62.1/62.1 kB\u001b[0m \u001b[31m396.1 kB/s\u001b[0m eta \u001b[36m0:00:00\u001b[0mm eta \u001b[36m0:00:01\u001b[0m0:01\u001b[0m\n",
      "\u001b[?25hDownloading numpy-2.3.1-cp312-cp312-manylinux_2_28_x86_64.whl (16.6 MB)\n",
      "\u001b[2K   \u001b[38;2;114;156;31m━━━━━━━━━━━━━━━━━━━━━━━━━━━━━━━━━━━━━━━━\u001b[0m \u001b[32m16.6/16.6 MB\u001b[0m \u001b[31m18.6 MB/s\u001b[0m eta \u001b[36m0:00:00\u001b[0mm eta \u001b[36m0:00:01\u001b[0m0:01\u001b[0m:01\u001b[0m\n",
      "\u001b[?25hInstalling collected packages: numpy\n",
      "Successfully installed numpy-2.3.1\n"
     ]
    }
   ],
   "source": [
    "!pip install numpy"
   ]
  },
  {
   "cell_type": "code",
   "execution_count": 2,
   "id": "7a0768ce",
   "metadata": {},
   "outputs": [],
   "source": [
    "import numpy as np"
   ]
  },
  {
   "cell_type": "markdown",
   "id": "2cbff075",
   "metadata": {},
   "source": [
    "# Zero d tensor"
   ]
  },
  {
   "cell_type": "code",
   "execution_count": 6,
   "id": "a3bf02d8",
   "metadata": {},
   "outputs": [
    {
     "data": {
      "text/plain": [
       "array(0)"
      ]
     },
     "execution_count": 6,
     "metadata": {},
     "output_type": "execute_result"
    }
   ],
   "source": [
    "zero_d_tensor=np.array(0)\n",
    "zero_d_tensor"
   ]
  },
  {
   "cell_type": "code",
   "execution_count": 16,
   "id": "6e1876a8",
   "metadata": {},
   "outputs": [
    {
     "name": "stdout",
     "output_type": "stream",
     "text": [
      "Dimension of the tensor 0\n",
      "The shape of the 2D tensor is ()\n"
     ]
    }
   ],
   "source": [
    "print(f\"Dimension of the tensor {zero_d_tensor.ndim}\")\n",
    "print(f\"The shape of the 2D tensor is {zero_d_tensor.shape}\")"
   ]
  },
  {
   "cell_type": "markdown",
   "id": "6ce967c4",
   "metadata": {},
   "source": [
    "# 1-D Tensor"
   ]
  },
  {
   "cell_type": "code",
   "execution_count": 8,
   "id": "1f804b28",
   "metadata": {},
   "outputs": [
    {
     "data": {
      "text/plain": [
       "array([1, 2, 3, 4, 5])"
      ]
     },
     "execution_count": 8,
     "metadata": {},
     "output_type": "execute_result"
    }
   ],
   "source": [
    "one_d_tensor=np.array([1, 2, 3, 4, 5])\n",
    "one_d_tensor"
   ]
  },
  {
   "cell_type": "code",
   "execution_count": 15,
   "id": "a67b382b",
   "metadata": {},
   "outputs": [
    {
     "name": "stdout",
     "output_type": "stream",
     "text": [
      "Dimension of the tensor 1\n",
      "The shape of the 2D tensor is (5,)\n"
     ]
    }
   ],
   "source": [
    "print(f\"Dimension of the tensor {one_d_tensor.ndim}\")\n",
    "print(f\"The shape of the 2D tensor is {one_d_tensor.shape}\")"
   ]
  },
  {
   "cell_type": "markdown",
   "id": "c8b5b3e9",
   "metadata": {},
   "source": [
    "# 2D Tensor"
   ]
  },
  {
   "cell_type": "code",
   "execution_count": 11,
   "id": "374115dc",
   "metadata": {},
   "outputs": [
    {
     "data": {
      "text/plain": [
       "array([[1, 2, 3],\n",
       "       [4, 5, 6]])"
      ]
     },
     "execution_count": 11,
     "metadata": {},
     "output_type": "execute_result"
    }
   ],
   "source": [
    "two_d_tensor=np.array([[1, 2, 3], \n",
    "                       [4, 5, 6]])\n",
    "two_d_tensor"
   ]
  },
  {
   "cell_type": "code",
   "execution_count": 14,
   "id": "481d5d82",
   "metadata": {},
   "outputs": [
    {
     "name": "stdout",
     "output_type": "stream",
     "text": [
      "Dimension of the tensor 2\n",
      "The shape of the 2D tensor is (2, 3)\n"
     ]
    }
   ],
   "source": [
    "print(f\"Dimension of the tensor {two_d_tensor.ndim}\")\n",
    "print(f\"The shape of the 2D tensor is {two_d_tensor.shape}\")"
   ]
  },
  {
   "cell_type": "markdown",
   "id": "8071917a",
   "metadata": {},
   "source": [
    "# 3D Tensor"
   ]
  },
  {
   "cell_type": "code",
   "execution_count": 20,
   "id": "a9447469",
   "metadata": {},
   "outputs": [],
   "source": [
    "three_d_tensor=np.array([\n",
    "                            [\n",
    "                                [1, 2, 3],\n",
    "                                [4, 5, 6]\n",
    "                            ],\n",
    "                            [   \n",
    "                                [7, 8, 9],\n",
    "                                [10, 11, 12]\n",
    "                            ]\n",
    "                         ])"
   ]
  },
  {
   "cell_type": "code",
   "execution_count": 22,
   "id": "ba2f5851",
   "metadata": {},
   "outputs": [
    {
     "name": "stdout",
     "output_type": "stream",
     "text": [
      "Dimension of the tensor 3\n",
      "The shape of the 3D tensor is (2, 2, 3)\n"
     ]
    }
   ],
   "source": [
    "print(f\"Dimension of the tensor {three_d_tensor.ndim}\")\n",
    "print(f\"The shape of the 3D tensor is {three_d_tensor.shape}\")"
   ]
  },
  {
   "cell_type": "code",
   "execution_count": null,
   "id": "9375fe89",
   "metadata": {},
   "outputs": [],
   "source": []
  }
 ],
 "metadata": {
  "kernelspec": {
   "display_name": "venv",
   "language": "python",
   "name": "python3"
  },
  "language_info": {
   "codemirror_mode": {
    "name": "ipython",
    "version": 3
   },
   "file_extension": ".py",
   "mimetype": "text/x-python",
   "name": "python",
   "nbconvert_exporter": "python",
   "pygments_lexer": "ipython3",
   "version": "3.12.3"
  }
 },
 "nbformat": 4,
 "nbformat_minor": 5
}
